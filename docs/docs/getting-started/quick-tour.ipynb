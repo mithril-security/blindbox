{
 "cells": [
  {
   "attachments": {},
   "cell_type": "markdown",
   "metadata": {
    "id": "7-tQfVM_pJcr"
   },
   "source": [
    "<div id=\"colab_button\">\n",
    "  <h1>Quick tour</h1>\n",
    "  <a target=\"_blank\" href=\"https://colab.research.google.com/github/mithril-security/blindbox/blob/main/docs/docs/getting-started/quick-tour.ipynb\"> \n",
    "  <img src=\"https://colab.research.google.com/assets/colab-badge.svg\" alt=\"Open In Colab\"/></a>\n",
    "</div>\n",
    "______________________________\n",
    "\n",
    "## Introduction\n",
    "______________________________\n",
    "\n",
    "**BlindBox** protects SaaS users' data. It wraps applications in a sandbox with customizable access possibilities and deploys them on **Confidential VMs**, which provide **robust hardware based isolation and protection**. When clients connect to a BlindBox and query the application with their data, the service provider has no way of accessing or seeing this data - hence our name BlindBox! \n",
    "\n",
    "Using BlindBox happens in 4 steps:\n",
    "\n",
    "![workflow_steps.png](../../assets/workflow_4_steps.png)\n",
    "\n",
    "## Quick start guide\n",
    "______________________\n",
    "\n",
    "We'll use an image containing [OpenAI's Whisper model](https://huggingface.co/spaces/openai/whisper) as the example software to walk you through how you can use BlindBox.\n",
    "\n",
    "We made a video demo, but if you want to try the code for yourself, all the steps are just under. 👇\n",
    "\n",
    "***WE MADE A VIDEO!***\n",
    "\n",
    "***[TO DO: VIDEO DEMO]***"
   ]
  },
  {
   "attachments": {},
   "cell_type": "markdown",
   "metadata": {},
   "source": [
    "### Pre-requisites\n",
    "\n",
    "To follow along with this guide and deploy your own BlindBox, you will need:\n",
    "\n",
    "+ An **Azure account** and **credits**. \n",
    "\n",
    "\t> **Important**: Our quick tour deploys a Whisper app on a DCasv5/ECasv5 series confidential VM with Azure. If you follow along with the Quick Tour, you will be charged according to your usage as detailed by Azure. You can get a detailed pricing quote [here](https://learn.microsoft.com/en-us/azure/confidential-computing/confidential-vm-overview).\n",
    "\n",
    "+ Have Docker installed in your environment. Here's the [Docker installation guide](https://docs.docker.com/desktop/install/linux-install/).\n",
    "\n",
    "#### Installing BlindBox and Terraform\n",
    "\n",
    "Let's dive in! We'll first need to install the **[blindbox](https://pypi.org/project/blindbox/) PyPi package** and **`terraform`**, which will facilitate the deployment of our BlindBox."
   ]
  },
  {
   "cell_type": "code",
   "execution_count": null,
   "metadata": {},
   "outputs": [],
   "source": [
    "# install blindbox\n",
    "!pip install blindbox\n",
    "\n",
    "# Download terraform\n",
    "!wget -O- https://apt.releases.hashicorp.com/gpg | sudo gpg --dearmor -o /usr/share/keyrings/hashicorp-archive-keyring.gpg\n",
    "\n",
    "# Add terraform to trusted apt packages\n",
    "!echo \"deb [signed-by=/usr/share/keyrings/hashicorp-archive-keyring.gpg] https://apt.releases.hashicorp.com $(lsb_release -cs) main\" | sudo tee /etc/apt/sources.list.d/hashicorp.list\n",
    "\n",
    "# Install terraform\n",
    "!sudo apt update && sudo apt install terraform"
   ]
  },
  {
   "attachments": {},
   "cell_type": "markdown",
   "metadata": {},
   "source": [
    "#### Azure CLI and log in\n",
    "\n",
    "We will also need to download the **Azure CLI tool** and **log in** to our Azure account."
   ]
  },
  {
   "cell_type": "code",
   "execution_count": null,
   "metadata": {},
   "outputs": [],
   "source": [
    "# Install azure-cli\n",
    "!curl -sL https://aka.ms/InstallAzureCLIDeb | sudo bash\n",
    "\n",
    "# Install confcom extension for azure-cli\n",
    "!az extension add -n confcom\n",
    "\n",
    "# Log in using azure-cli\n",
    "!az login\n",
    "\n",
    "# Set the subscription azure-cli will use by default.\n",
    "!az account set --subscription \"Microsoft Azure Sponsorship\""
   ]
  },
  {
   "attachments": {},
   "cell_type": "markdown",
   "metadata": {},
   "source": [
    "When running the `az login` command, you will be provided with a link that you will need to open in your browser to successfully login to your Azure account.\n",
    "\n",
    "#### Download the audio file\n",
    "\n",
    "The final requirement is to download our [test audio file](https://www2.cs.uic.edu/~i101/SoundFiles/taunt.wav) which we will use to query our Whisper model. This one was provided by University of Illinois at Chicago  as part of their Computer Science 101 course."
   ]
  },
  {
   "cell_type": "code",
   "execution_count": null,
   "metadata": {},
   "outputs": [],
   "source": [
    "# Download our example audio file and save it as `test.wav` in a `.tmp` folder\n",
    "\n",
    "!mkdir -p .tmp\n",
    "!wget https://www2.cs.uic.edu/~i101/SoundFiles/taunt.wav -O .tmp/test.wav"
   ]
  },
  {
   "attachments": {},
   "cell_type": "markdown",
   "metadata": {
    "id": "eyZHW8TvpJc1"
   },
   "source": [
    "### STEP 1. Preparing the application image\n",
    "\n",
    "In BlindBox architecture, the \"inner\" application image will be wrapped within an \"outer\" BlindBox image. The outer image is responsible for implementing customizable security policy and **communicates** with the inner image **using port 80**.\n",
    "\n",
    "This is why, to be compatible with BlindBox, applications images only need to fill one requirement: they must expose `port 80`. \n",
    "\n",
    "You can download the Docker image we prepared for this tutorial in the `ai_server_example` folder of the `BlindBox repository`:"
   ]
  },
  {
   "cell_type": "code",
   "execution_count": null,
   "metadata": {},
   "outputs": [],
   "source": [
    "!git clone https://github.com/mithril-security/blindbox\n",
    "!cd ai_server_example"
   ]
  },
  {
   "attachments": {},
   "cell_type": "markdown",
   "metadata": {},
   "source": [
    "We can now build our Whisper application image so it is ready to be deployed with BlindBox."
   ]
  },
  {
   "cell_type": "code",
   "execution_count": null,
   "metadata": {},
   "outputs": [],
   "source": [
    "# build Whisper application assigning it the tag \"myimage\"\n",
    "!docker build -t myimage ."
   ]
  },
  {
   "attachments": {},
   "cell_type": "markdown",
   "metadata": {},
   "source": [
    "### STEP 2. Wrapping the application in an enclave\n",
    "\n",
    "#### Preparing the BlindBox\n",
    "\n",
    "The next step is to initialize our BlindBox. This step will create two template configuration files needed for our BlindBox, which users can modify to apply custom settings and policies: \n",
    "\n",
    "+ A `blindbox.yml` file which has modifiable options. It should be modified before building your BlindBox for changes to take effect. \n",
    "\t+ `platform` to specify the TEE type you want to use (we currently only support `amd-sev`)\n",
    "\t+ `ip-rules` to whitelist the `ip addresses` of the users allowed to query the BlindBox application. \n",
    "\n",
    "+ A `blindbox.tf` file. It contains all the configuration options for the Confidential VM which we deploy our BlindBox image on. It should be modified before deploying your BlindBox for changes to take effect.\n",
    "\n",
    "To perform this initialization step, we run the following command:"
   ]
  },
  {
   "cell_type": "code",
   "execution_count": null,
   "metadata": {},
   "outputs": [],
   "source": [
    "# initialize the blindbox\n",
    "!blindbox --platform azure-sev init "
   ]
  },
  {
   "attachments": {},
   "cell_type": "markdown",
   "metadata": {},
   "source": [
    "We specify that we want to use the AMD SEV TEE platform with Azure using the `platform` option with `azure-sev` as our argument.\n",
    "\n",
    "> Note this is the only platform currently supported. `aws-nitro` is **coming soon**."
   ]
  },
  {
   "attachments": {},
   "cell_type": "markdown",
   "metadata": {},
   "source": [
    "#### Building the BlindBox image\n",
    "\n",
    "Next we are ready to build our BlindBox image which is a wrapper around your application image. It implements the custom security policies specified in the `blindbox.yml` file.\n",
    "\n",
    "We do this using `blindbox build` and specifying the application image using the `--source-image` option."
   ]
  },
  {
   "cell_type": "code",
   "execution_count": null,
   "metadata": {
    "colab": {
     "base_uri": "https://localhost:8080/",
     "height": 1000
    },
    "id": "169vRU_vpJc4",
    "outputId": "84758615-d31c-42cf-a343-d492bbec326c"
   },
   "outputs": [],
   "source": [
    "# build the application image with the tag \"myimage-blindbox:v1\"\n",
    "!blindbox build -t myimage-blindbox:v1 --source-image myimage:v1"
   ]
  },
  {
   "attachments": {},
   "cell_type": "markdown",
   "metadata": {},
   "source": [
    "### STEP 3. Deploy the BlindBox image on Confidential VM\n",
    "\n",
    "We next use the `deploy` command to deploy our `blindbox image` (which contains the inner `application image`) on an `Azure confidential VM`. "
   ]
  },
  {
   "cell_type": "code",
   "execution_count": null,
   "metadata": {},
   "outputs": [],
   "source": [
    "# deploy our image inside Confidential VM using BlindBox\n",
    "!blindbox deploy"
   ]
  },
  {
   "attachments": {},
   "cell_type": "markdown",
   "metadata": {},
   "source": [
    "### STEP 4. Querying the enclave\n",
    "\n",
    "Now that the deployment is done, authorised users can query the model within the enclave using the `requests` module within the `blindbox` library we installed earlier on."
   ]
  },
  {
   "cell_type": "code",
   "execution_count": null,
   "metadata": {},
   "outputs": [],
   "source": [
    "# import requests module\n",
    "from blindbox  import requests\n",
    "\n",
    "# we query our application, sending it our audio file\n",
    "res = requests.post(url=\"http://localhost:8080/enclave/predict\", files={\"audio\": open(\".tmp/test.wav\", \"rb\")})\n",
    "\n",
    "# display result\n",
    "print(res)"
   ]
  },
  {
   "attachments": {},
   "cell_type": "markdown",
   "metadata": {},
   "source": [
    "Here, we were able to transcribe our audio file while keeping the audio file confidential, even from the SaaS vendor!\n",
    "\n",
    "## Why trust us?\n",
    "___________________________________________\n",
    "\n",
    "+ **Our core security features are open source.** We believe that transparency is the best way to ensure security and you can inspect the code yourself on our [GitHub page](https://github.com/mithril-security/blindbox).\n",
    "\n",
    "+ **Our historical project [BlindAI](../past-projects/blindai.md) was successfully audited** by Quarkslab. Although both projects differ (BlindAI was meant for the confidential deployment of ONNX models inside Intel SGX enclaves), we want to highlight that we are serious about our security standards and know how to code secure remote attestation. \n",
    "\n",
    "+ BlindBox is still under development, but here's what will happen when the enclave is not secure. \n",
    "\n",
    "\tIf we talk to a server with no collateral to prove it is a secure enclave, which means that no signature from the hardware provider, then an error will be raised:\n",
    "\n",
    "\t```python\n",
    "\timport blindbox.requests as requests\n",
    "\n",
    "\tsession = requests.SecureSession()\n",
    "\n",
    "\t>> NotAnEnclaveError\n",
    "\t```\n",
    "\n",
    "\tIf the first check passes, but the hash of the code is not the publicly available hash of BlindBox, another error will be raised:\n",
    "\n",
    "\t```python\n",
    "\timport blindbox.requests as requests\n",
    "\n",
    "\tsession = requests.SecureSession()\n",
    "\n",
    "\t>> InvalidEnclaveCode\n",
    "\t```\n",
    "\n",
    "\tHere, ***WE'RE NOT RESPECTING THE CUSTOM POLICY REQUIREMENTS***\n",
    "\n",
    "\t```python\n",
    "\timport blindbox.requests as requests\n",
    "\n",
    "\tsession = requests.SecureSession()\n",
    "\n",
    "\t>> NotIsolatedEnclaveError\n",
    "\t```"
   ]
  },
  {
   "attachments": {},
   "cell_type": "markdown",
   "metadata": {},
   "source": [
    "## Conclusion\n",
    "_______________________\n",
    " \n",
    "Now that we've seen how we can deploy and query an application with BlindBox, let's find out more about how BlindBox protects end users' data in the following [section](./confidential_computing.md)."
   ]
  }
 ],
 "metadata": {
  "colab": {
   "provenance": []
  },
  "kernelspec": {
   "display_name": "blindbox-preview-7Yaoi9am-py3.8",
   "language": "python",
   "name": "python3"
  },
  "language_info": {
   "codemirror_mode": {
    "name": "ipython",
    "version": 3
   },
   "file_extension": ".py",
   "mimetype": "text/x-python",
   "name": "python",
   "nbconvert_exporter": "python",
   "pygments_lexer": "ipython3",
   "version": "3.10.6"
  },
  "orig_nbformat": 4
 },
 "nbformat": 4,
 "nbformat_minor": 0
}
