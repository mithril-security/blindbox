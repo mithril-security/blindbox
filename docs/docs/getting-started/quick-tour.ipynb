{
 "cells": [
  {
   "attachments": {},
   "cell_type": "markdown",
   "metadata": {
    "id": "7-tQfVM_pJcr"
   },
   "source": [
    "<div id=\"colab_button\">\n",
    "  <h1>Quick tour</h1>\n",
    "  <a target=\"_blank\" href=\"https://colab.research.google.com/github/mithril-security/blindbox/blob/main/docs/docs/getting-started/quick-tour.ipynb\"> \n",
    "  <img src=\"https://colab.research.google.com/assets/colab-badge.svg\" alt=\"Open In Colab\"/></a>\n",
    "</div>\n",
    "______________________________\n",
    "\n",
    "## Introduction\n",
    "______________________________\n",
    "\n",
    "\n",
    "**BlindBox** is a **privacy solution** allowing developers to deploy their **Software-as-a-Service** (SaaS) applications, while **keeping** their users' data **confidential**. We use **secure enclaves**, hardware based isolated environments, to **protect data during computation**. What happens in the enclave, stays in the enclave - hence our name, BlindBox!\n",
    "\n",
    "### Key Features \n",
    "\n",
    "⌛ *COMING SOON*\n",
    "\n",
    "* Easy-to-use **CLI tool** for **deploying app images** in secure enclaves\n",
    "* **Data** processed within a **hardware-based, highly isolated environments** called secure enclaves\n",
    "* Additional customizable layer of isolation provided\n",
    "\n",
    "## Quick start guide\n",
    "______________________\n",
    "\n",
    "While we continue to develop BlindBox's key features, we have created this guide to demonstrate how you can deploy and query the **OpenChatKit** (ChatGPT-like) model  with privacy guarantees using BlindBox."
   ]
  },
  {
   "attachments": {},
   "cell_type": "markdown",
   "metadata": {},
   "source": [
    "### Installation\n",
    "\n",
    "First of all, we need to install the [blindbox](https://pypi.org/project/blindbox/) Python library."
   ]
  },
  {
   "cell_type": "code",
   "execution_count": null,
   "metadata": {},
   "outputs": [],
   "source": [
    "# install blindbox\n",
    "!pip install blindbox[ai]"
   ]
  },
  {
   "attachments": {},
   "cell_type": "markdown",
   "metadata": {
    "id": "eyZHW8TvpJc1"
   },
   "source": [
    "### Preparing an image\n",
    "\n",
    "BlindBox is a wrapper to make Docker images deployable inside secure enclaves and ensure isolation of the content.\n",
    "\n",
    "**Requirements:**\n",
    "\n",
    "BlindBox currently assumes your Docker image exposes port XXXX. \n",
    "\n",
    "We have packaged a Docker image that contains a Web server [to deploy a ChatGPT-like model](LINK TO OUR IMAGE).\n"
   ]
  },
  {
   "attachments": {},
   "cell_type": "markdown",
   "metadata": {},
   "source": [
    "### Build enclave image"
   ]
  },
  {
   "attachments": {},
   "cell_type": "markdown",
   "metadata": {},
   "source": [
    "Next, we will create our blindbox with our desired configuration TEE option supplied as an `--env` argument. Currently, We can chose between `azure-sev`, an AMD SEV-SNP TEE environment running within an Azure VM, or `aws-nitro`, a Nitro Enclave TEE running on an AWS instance. \n",
    "\n",
    "Once we have done this, we are ready to build our ChatGPT-like model Docker image with BlindBox."
   ]
  },
  {
   "cell_type": "code",
   "execution_count": null,
   "metadata": {
    "colab": {
     "base_uri": "https://localhost:8080/",
     "height": 1000
    },
    "id": "169vRU_vpJc4",
    "outputId": "84758615-d31c-42cf-a343-d492bbec326c"
   },
   "outputs": [],
   "source": [
    "# create a blindbox configuration using the AMD SEV TEE with an Azure VM\n",
    "!blindbox init --env azure-sev\n",
    "\n",
    "# build the image\n",
    "!blindbox build -t myimage-blindbox:v1 --source-image myimage:v1"
   ]
  },
  {
   "attachments": {},
   "cell_type": "markdown",
   "metadata": {},
   "source": [
    "### Deploy enclave image\n",
    "\n",
    "To deploy our image within our secure enclave, we use the deploy command."
   ]
  },
  {
   "cell_type": "code",
   "execution_count": null,
   "metadata": {},
   "outputs": [],
   "source": [
    "# deploy our image inside secure enclave using BlindBox\n",
    "\n",
    "!blindbox deploy"
   ]
  },
  {
   "attachments": {},
   "cell_type": "markdown",
   "metadata": {},
   "source": [
    "### Querying enclave\n",
    "\n",
    "We can now query the model within the enclave using the `blindbox.requests` module."
   ]
  },
  {
   "cell_type": "code",
   "execution_count": null,
   "metadata": {},
   "outputs": [],
   "source": [
    "from blindbox.requests  import SecuredSession\n",
    "\n",
    "# We create a secure session connecting to our enclave\n",
    "with SecuredSession(\"http://localhost:8080\") as secure_session:\n",
    "    \n",
    "    # we convert our input text to a JSON object using json.dumps\n",
    "    req = json.dumps({\n",
    "            \"input_text\": \"He hoped there would be stew for dinner, turnips and carrots and bruised potatoes and fat-mutton pieces to be ladled out and thick, peppered flower-fattened sauce.\",\n",
    "    })\n",
    "\n",
    "    # we query the OpenChatKit predict feature using our input text\n",
    "    res = secure_session.post(endpoint=\"/open-chat-kit/predict\", data=req).text # .text specifies we want the return result as a string\n",
    "    \n",
    "    # display result\n",
    "    print(res)"
   ]
  },
  {
   "attachments": {},
   "cell_type": "markdown",
   "metadata": {},
   "source": [
    "## How to verify BlindBox's security features\n",
    "___________________________________________\n",
    "\n",
    "- Our source code is `open source`. You can inspect the code yourself on our [GitHub page](https://github.com/mithril-security/blindbox).\n",
    "\n",
    "- We aim to provide clear explanations of the technologies behind BlindBox. You can get started with [an introduction to confidential computing](https://blindbox.mithrilsecurity.io/en/latest/docs/getting-started/confidential_computing/) explaining key concepts behind BlindBox, or go with more specific explanations in our [secure enclaves guide](https://blindbox.mithrilsecurity.io/en/latest/docs/concepts/Trusted_Execution_Environments/).\n",
    "\n",
    "Also good to know: our historical product, **BlindAI**, has been **independently audited** by [Quarkslab SAS](https://www.quarkslab.com/fr/accueil/). The audit report is *coming soon*!"
   ]
  },
  {
   "attachments": {},
   "cell_type": "markdown",
   "metadata": {
    "id": "9dLZ16T528YV"
   },
   "source": [
    "## Community\n",
    "_________________\n",
    "\n",
    "Ask questions on our [**Github**](https://github.com/mithril-security/blindbox/issues) or on our [**Discord**](https://discord.com/invite/TxEHagpWd4). We love feedback!🎉"
   ]
  }
 ],
 "metadata": {
  "colab": {
   "provenance": []
  },
  "kernelspec": {
   "display_name": "blindbox-preview-7Yaoi9am-py3.8",
   "language": "python",
   "name": "python3"
  },
  "language_info": {
   "codemirror_mode": {
    "name": "ipython",
    "version": 3
   },
   "file_extension": ".py",
   "mimetype": "text/x-python",
   "name": "python",
   "nbconvert_exporter": "python",
   "pygments_lexer": "ipython3",
   "version": "3.9.16"
  },
  "orig_nbformat": 4
 },
 "nbformat": 4,
 "nbformat_minor": 0
}
