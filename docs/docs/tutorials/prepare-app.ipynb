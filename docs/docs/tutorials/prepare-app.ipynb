{
 "cells": [
  {
   "attachments": {},
   "cell_type": "markdown",
   "metadata": {
    "id": "7-tQfVM_pJcr"
   },
   "source": [
    "<h1>Preparing the application image</h1>\n",
    "______________________________\n",
    "\n",
    "## Introduction\n",
    "______________________________\n",
    "\n",
    "In this tutorial, we're going to discuss how to make an application that is ready to for deployment with BlindBox. We'll explore the technical constraints you'll need to bear in mind for your application and show you our example \"Hello World!\" app code! 👋"
   ]
  },
  {
   "attachments": {},
   "cell_type": "markdown",
   "metadata": {},
   "source": [
    "## Pre-requisites\n",
    "____________________\n",
    "\n",
    "To follow along with this tutorial and deploy your own BlindBox, you will need to:\n",
    "\n",
    "+ Have Docker installed in your environment. Here's the [Docker installation guide](https://docs.docker.com/desktop/install/linux-install/).\n",
    "\n",
    "### Technical constraints\n",
    "\n",
    "It is important to keep in mind the external calls your application might make, when considering application deployment with BlindBox. This means that, ideally, your application should be **self-sufficient**, so that user's data will be sent to our secure execution environment without being exposed to any additional risks. \n",
    "\n",
    "We are currently implementing a whitelisting feature so that data owners can whitelist any legitimate external domains needed for the application. When we launch it, any calls made from the BlindBox to domains not whitelisted will be blocked! This feature is coming soon, but it will still be preferable to **rely on as few external domains as possible**, because the data owner will have to verify all these domains."
   ]
  },
  {
   "attachments": {},
   "cell_type": "markdown",
   "metadata": {},
   "source": [
    "## The application code\n",
    "_______________________\n",
    "\n",
    "Now, let's take a look at our application code that will be launched on our confidential VM by BlindBox.\n",
    "\n",
    "```python\n",
    "import uvicorn\n",
    "from fastapi import FastAPI\n",
    "\n",
    " # initialize our API app object\n",
    "app = FastAPI()\n",
    "\n",
    " # use fastapi decorator to turn our Hello World function into API endpoints on our uvicorn server\n",
    "@app.get(\"/hello\")\n",
    "def hello() -> str:\n",
    "    return \"Hello World\"\n",
    "\n",
    "if __name__ == \"__main__\":\n",
    "    # deploy our server on port 80\n",
    "    uvicorn.run(app, host=\"0.0.0.0\", port=80)\n",
    "```"
   ]
  },
  {
   "attachments": {},
   "cell_type": "markdown",
   "metadata": {},
   "source": [
    "You can view this file by downloading our github repository and taking a look at the `server.py` file in the `examples/hello-world` folder."
   ]
  },
  {
   "cell_type": "code",
   "execution_count": null,
   "metadata": {},
   "outputs": [],
   "source": [
    "!git clone https://github.com/mithril-security/blindbox\n",
    "!cd examples/hello-world"
   ]
  },
  {
   "attachments": {},
   "cell_type": "markdown",
   "metadata": {},
   "source": [
    "This program does the following:\n",
    "\n",
    "+ Creates the API app object that \"configures\" the uvicorn server by providing handlers for specific endpoints\n",
    "\n",
    "+ Creates a `hello` endpoint on our `uvicorn server` which users will be able to query on our BlindBox address once packaged and deployed.\n",
    "\n",
    "+ Deploys our API on a python ASGI server (an asynchronous web server) on `port 80`. \n",
    "\n",
    "\t> It is important that the application is configured to run on **port 80** because BlindBox will forward and receive traffic to the application on this port!"
   ]
  },
  {
   "attachments": {},
   "cell_type": "markdown",
   "metadata": {},
   "source": [
    "## Packaging our application in a Docker image\n",
    "________________________________\n",
    "\n",
    "Now that we're set up, we need to **package** our application in a **Docker image**. We'll take a look at the Dockerfile we used to package this Hello World application:"
   ]
  },
  {
   "attachments": {},
   "cell_type": "markdown",
   "metadata": {},
   "source": [
    "```docker\n",
    "FROM python:3.10-alpine\n",
    "\n",
    " # download any requisites\n",
    "RUN pip install \n",
    "        # provides handlers for specific endpoints on our server\n",
    "        fastapi==0.95.0\n",
    "        # gives support for multipart requests\n",
    "        python-multipart==0.0.6\n",
    "        # uvicorn is a python ASGI server (an asynchronous web server)\n",
    "        uvicorn==0.21.1\n",
    "        # fastapi uses this library to define response/requests formats and to serialize/deserialize the response/requests\n",
    "        pydantic==1.10.7\n",
    "\n",
    " # copy our application code across to our container\n",
    "COPY server.py /\n",
    "\n",
    " # signal that application will run on port 80\n",
    "EXPOSE 80\n",
    "\n",
    " # set command on launch to launch our application code\n",
    "CMD [\"python\", \"/server.py\"]\n",
    "```"
   ]
  },
  {
   "attachments": {},
   "cell_type": "markdown",
   "metadata": {},
   "source": [
    "> Same as for the application code, this file can be viewed in the `examples` folder in the official BlindBox GitHub repository.\n",
    "\n",
    "There are no complex requirements for the Docker image, but it is recommended to `EXPOSE` port 80 to signal that the application will be running on port 80 within our BlindBox."
   ]
  },
  {
   "attachments": {},
   "cell_type": "markdown",
   "metadata": {
    "id": "eyZHW8TvpJc1"
   },
   "source": [
    "## Building our application\n",
    "_____________________________"
   ]
  },
  {
   "attachments": {},
   "cell_type": "markdown",
   "metadata": {},
   "source": [
    "But let's build our Hello World application image before we can deploy it with BlindBox:"
   ]
  },
  {
   "cell_type": "code",
   "execution_count": null,
   "metadata": {},
   "outputs": [],
   "source": [
    "# build application assigning it the tag \"hello-world\"\n",
    "!docker build -t hello-world ."
   ]
  },
  {
   "attachments": {},
   "cell_type": "markdown",
   "metadata": {},
   "source": [
    "## Conclusion\n",
    "_______________________\n",
    " \n",
    "In this tutorial, we've seen how we can:\n",
    "+ Create a BlindBox-compatible application\n",
    "+ Package our application\n",
    "\n",
    "Now that the Docker image is packaged it is ready to be deployed with BlindBox. To see how to deploy an application image with BlindBox, check out our [Quick Tour](https://blindbox.mithrilsecurity.io/en/latest/docs/getting-started/quick-tour/)."
   ]
  }
 ],
 "metadata": {
  "colab": {
   "provenance": []
  },
  "kernelspec": {
   "display_name": "blindbox-preview-7Yaoi9am-py3.8",
   "language": "python",
   "name": "python3"
  },
  "language_info": {
   "codemirror_mode": {
    "name": "ipython",
    "version": 3
   },
   "file_extension": ".py",
   "mimetype": "text/x-python",
   "name": "python",
   "nbconvert_exporter": "python",
   "pygments_lexer": "ipython3",
   "version": "3.10.6"
  },
  "orig_nbformat": 4
 },
 "nbformat": 4,
 "nbformat_minor": 0
}
