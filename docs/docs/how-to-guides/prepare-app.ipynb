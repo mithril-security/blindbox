{
 "cells": [
  {
   "attachments": {},
   "cell_type": "markdown",
   "metadata": {
    "id": "7-tQfVM_pJcr"
   },
   "source": [
    "<div id=\"colab_button\">\n",
    "  <h1>Quick tour</h1>\n",
    "  <a target=\"_blank\" href=\"https://colab.research.google.com/github/mithril-security/blindbox/blob/main/docs/docs/how-to-guides/prepare-app.ipynb\"> \n",
    "  <img src=\"https://colab.research.google.com/assets/colab-badge.svg\" alt=\"Open In Colab\"/></a>\n",
    "</div>\n",
    "______________________________\n",
    "\n",
    "## Introduction\n",
    "______________________________\n",
    "\n",
    "In this how-to guide, we are going to walk you through how you can create a basic application image with Docker and deploy it on a Confidential VM with custom security policies using BlindBox, allowing you to offer our users stringent privacy guarantees.\n",
    "\n",
    "But before we go any further, if you want to follow along with this how-to guide, you'lld need to make sure you have the following pre-requisites installed or set-up."
   ]
  },
  {
   "attachments": {},
   "cell_type": "markdown",
   "metadata": {},
   "source": [
    "### Pre-requisites\n",
    "\n",
    "To follow along with this guide and deploy your own BlindBox, you will need:\n",
    "\n",
    "+ An **Azure account** and **credits**. \n",
    "\n",
    "\t> **Important**: This how-to guide deploys our \"hello world\" app on a DCasv5/ECasv5 series confidential VM with Azure. If you follow along with the Quick Tour, you will be charged according to your usage as detailed by Azure. You can get a detailed pricing quote [here](https://learn.microsoft.com/en-us/azure/confidential-computing/confidential-vm-overview).\n",
    "\n",
    "+ Have Docker installed in your environment. Here's the [Docker installation guide](https://docs.docker.com/desktop/install/linux-install/).\n",
    "\n",
    "#### Installing BlindBox and Terraform\n",
    "\n",
    "Let's dive in! We'll first need to install the **[blindbox](https://pypi.org/project/blindbox/) PyPi package** and **`terraform`**, which will facilitate the deployment of our BlindBox."
   ]
  },
  {
   "cell_type": "code",
   "execution_count": null,
   "metadata": {},
   "outputs": [],
   "source": [
    "# install blindbox\n",
    "!pip install blindbox\n",
    "\n",
    "# Download terraform\n",
    "!wget -O- https://apt.releases.hashicorp.com/gpg | sudo gpg --dearmor -o /usr/share/keyrings/hashicorp-archive-keyring.gpg\n",
    "\n",
    "# Add terraform to trusted apt packages\n",
    "!echo \"deb [signed-by=/usr/share/keyrings/hashicorp-archive-keyring.gpg] https://apt.releases.hashicorp.com $(lsb_release -cs) main\" | sudo tee /etc/apt/sources.list.d/hashicorp.list\n",
    "\n",
    "# Install terraform\n",
    "!sudo apt update && sudo apt install terraform"
   ]
  },
  {
   "attachments": {},
   "cell_type": "markdown",
   "metadata": {},
   "source": [
    "#### Azure CLI and login\n",
    "\n",
    "We will also need to download the **Azure CLI tool** and **log in** to our Azure account."
   ]
  },
  {
   "cell_type": "code",
   "execution_count": null,
   "metadata": {},
   "outputs": [],
   "source": [
    "# Install azure-cli\n",
    "!curl -sL https://aka.ms/InstallAzureCLIDeb | sudo bash\n",
    "\n",
    "# Install confcom extension for azure-cli\n",
    "!az extension add -n confcom\n",
    "\n",
    "# Log in using azure-cli\n",
    "!az login\n",
    "\n",
    "# Set the subscription azure-cli will use by default.\n",
    "!az account set --subscription \"Microsoft Azure Sponsorship\""
   ]
  },
  {
   "attachments": {},
   "cell_type": "markdown",
   "metadata": {},
   "source": [
    "### Our application code\n",
    "\n",
    "Now that this is done, let's take a look at our application code that will be launched on our confidential VM by BlindBox."
   ]
  },
  {
   "attachments": {},
   "cell_type": "markdown",
   "metadata": {},
   "source": [
    "```python\n",
    "import uvicorn\n",
    "from fastapi import FastAPI\n",
    "\n",
    "# initialize our API app object\n",
    "app = FastAPI()\n",
    "\n",
    "# use fastapi decorator to turn our Hello World function into API endpoints on our uvicorn server\n",
    "@app.get(\"/hello\")\n",
    "def hello() -> str:\n",
    "    return \"Hello World\"\n",
    "\n",
    "if __name__ == \"__main__\":\n",
    "    # deploy our server on port 80\n",
    "    uvicorn.run(app, host=\"0.0.0.0\", port=80)\n",
    "\n",
    "```"
   ]
  },
  {
   "attachments": {},
   "cell_type": "markdown",
   "metadata": {},
   "source": [
    "You can view this file by downloading our github repository and taking a look at the `server.py` file in the `examples/hello-world` folder."
   ]
  },
  {
   "cell_type": "code",
   "execution_count": null,
   "metadata": {},
   "outputs": [],
   "source": [
    "!git clone https://github.com/mithril-security/blindbox\n",
    "!cd examples/hello-world"
   ]
  },
  {
   "attachments": {},
   "cell_type": "markdown",
   "metadata": {},
   "source": [
    "This program does the following:\n",
    "\n",
    "+ Creates the API app object that \"configures\" the uvicorn server by providing handlers for specific endpoints\n",
    "\n",
    "+ Creates a `hello` endpoint on our `uvicorn server` which users will be able to query on our BlindBox address once packaged and deployed.\n",
    "\n",
    "+ Deploys our API on a python ASGI server (an asynchronous web server) on port 80.\n",
    "\n",
    ">Note it is important that your application is configured to run on port 80 as BlindBox will forward and receive traffic to the application on this port!"
   ]
  },
  {
   "attachments": {},
   "cell_type": "markdown",
   "metadata": {},
   "source": [
    "### Packaging our application in a Docker image\n",
    "\n",
    "Next, we need to package our application in a Docker image which will then be wrapped in our BlindBox image with custom security policies and deployed on our Confidential VM.\n",
    "\n",
    "Let's take a look at our Dockerfile we used to package this Hello World application:"
   ]
  },
  {
   "attachments": {},
   "cell_type": "markdown",
   "metadata": {},
   "source": [
    "```docker\n",
    "FROM python:3.10-alpine\n",
    "\n",
    "# download any requisites\n",
    "RUN pip install \\\n",
    "        # provides handlers for specific endpoints on our server\n",
    "        fastapi==0.95.0 \\\n",
    "        # gives support for multipart requests\n",
    "        python-multipart==0.0.6 \\\n",
    "        # uvicorn is a python ASGI server (an asynchronous web server)\n",
    "        uvicorn==0.21.1 \\\n",
    "        # fastapi uses this library to define response/requests formats and to serialize/deserialize the response/requests\n",
    "        pydantic==1.10.7 \\ \n",
    "\n",
    "# copy our application code across to our container\n",
    "COPY server.py /\n",
    "\n",
    "# signal that application will run on port 80\n",
    "EXPOSE 80\n",
    "\n",
    "# set command on launch to launch our application code\n",
    "CMD [\"python\", \"/server.py\"]\n",
    "```"
   ]
  },
  {
   "attachments": {},
   "cell_type": "markdown",
   "metadata": {},
   "source": [
    "Again, this file can be viewed in the `examples` folder in the official BlindBox GitHub repository.\n",
    "\n",
    "There are no complex requirements for our Docker image, but it is recommended to `EXPOSE` port 80 to signal that our application will be running on port 80 within our BlindBox."
   ]
  },
  {
   "attachments": {},
   "cell_type": "markdown",
   "metadata": {
    "id": "eyZHW8TvpJc1"
   },
   "source": [
    "### Building our application"
   ]
  },
  {
   "attachments": {},
   "cell_type": "markdown",
   "metadata": {},
   "source": [
    "Next, we need to build our Hello World application image before we can deploy it with BlindBox."
   ]
  },
  {
   "cell_type": "code",
   "execution_count": null,
   "metadata": {},
   "outputs": [],
   "source": [
    "# build application assigning it the tag \"hello-world\"\n",
    "!docker build -t hello-world ."
   ]
  },
  {
   "attachments": {},
   "cell_type": "markdown",
   "metadata": {},
   "source": [
    "### Preparing the BlindBox\n",
    "\n",
    "Now we are ready to initialize our BlindBox by running the `blindbox init` command within the BlindBox `examples/hello-world` folder. This step will automatically create two template configuration files, the `blindbox.yml` and the `blindbox.tf` file.\n",
    "\n",
    "+ The `blindbox.yml` file is used to set up custom security policies. It currently supports the following modifiable options:\n",
    "\t+ `platform` to specify the TEE type you want to use (we currently only support `amd-sev`)\n",
    "\t+ `ip-rules` to whitelist the `ip addresses` of the users allowed to query the BlindBox application. \n",
    "+ The `blindbox.tf` file contains all the configuration options for the Confidential VM which your BlindBox image will be deployed on. \n",
    "\n",
    "> The blindbox.yml config file should be modified before building your BlindBox for any changes to take effect. \n",
    "\n",
    "> The blindbox.tf config file should be modified before deploying your BlindBox for any changes to take effect."
   ]
  },
  {
   "cell_type": "code",
   "execution_count": null,
   "metadata": {},
   "outputs": [],
   "source": [
    "# initialize the blindbox with AMD-SEV TEE\n",
    "!blindbox --platform azure-sev init "
   ]
  },
  {
   "attachments": {},
   "cell_type": "markdown",
   "metadata": {},
   "source": [
    "We specify that we want to use the AMD SEV TEE platform with Azure using the `platform` option with `azure-sev` as our argument.\n",
    "\n",
    "> Note this is the only platform currently supported- `aws-nitro` is **coming soon**.\n",
    "\n",
    "We should now be able to see the `blindbox.yml` and `blindbox.tf` files in our `examples/hello-world` folder."
   ]
  },
  {
   "attachments": {},
   "cell_type": "markdown",
   "metadata": {},
   "source": [
    "#### Building the BlindBox image\n",
    "\n",
    "Next we are ready to build our BlindBox image which is a wrapper around your application image. It implements the custom security policies specified in the `blindbox.yml` file.\n",
    "\n",
    "We do this using `blindbox build` and specifying the application image using the `--source-image` option."
   ]
  },
  {
   "cell_type": "code",
   "execution_count": null,
   "metadata": {
    "colab": {
     "base_uri": "https://localhost:8080/",
     "height": 1000
    },
    "id": "169vRU_vpJc4",
    "outputId": "84758615-d31c-42cf-a343-d492bbec326c"
   },
   "outputs": [],
   "source": [
    "# build the application image with the tag \"hello-world-blindbox\"\n",
    "!blindbox build -t hello-world-blindbox --source-image hello-world"
   ]
  },
  {
   "attachments": {},
   "cell_type": "markdown",
   "metadata": {},
   "source": [
    "### Deploying our application on a Confidental VM\n",
    "\n",
    "We next use the `deploy` command to deploy our `blindbox image` (which contains the inner `application image`) on an `Azure confidential VM`. "
   ]
  },
  {
   "cell_type": "code",
   "execution_count": null,
   "metadata": {},
   "outputs": [],
   "source": [
    "# deploy our image inside Confidential VM using BlindBox\n",
    "!blindbox deploy hello-world-blindbox"
   ]
  },
  {
   "attachments": {},
   "cell_type": "markdown",
   "metadata": {},
   "source": [
    "### Querying the enclave\n",
    "\n",
    "Now that the deployment is done, authorised users can query the model within the enclave using the `requests` module within the `blindbox` library we installed earlier on."
   ]
  },
  {
   "cell_type": "code",
   "execution_count": null,
   "metadata": {},
   "outputs": [],
   "source": [
    "# import requests module\n",
    "from blindbox  import requests\n",
    "\n",
    "# we query our application on our hello endpoint\n",
    "res = requests.post(url=\"http://localhost:8080/enclave/hello\")\n",
    "\n",
    "# display result\n",
    "print(res)"
   ]
  },
  {
   "attachments": {},
   "cell_type": "markdown",
   "metadata": {},
   "source": [
    "As you can see, by querying the `hello` endpoint of our `hello world application`, we get back the expected result: `hello world`!"
   ]
  },
  {
   "attachments": {},
   "cell_type": "markdown",
   "metadata": {},
   "source": [
    "## Conclusion\n",
    "_______________________\n",
    " \n",
    "In this tutorial, we've seen how we can:\n",
    "+ Create a BlindBox-compatible application\n",
    "+ Package and build our application\n",
    "+ Create and build our BlindBox\n",
    "+ Deploy our Blindox on a Confidential VM"
   ]
  }
 ],
 "metadata": {
  "colab": {
   "provenance": []
  },
  "kernelspec": {
   "display_name": "blindbox-preview-7Yaoi9am-py3.8",
   "language": "python",
   "name": "python3"
  },
  "language_info": {
   "codemirror_mode": {
    "name": "ipython",
    "version": 3
   },
   "file_extension": ".py",
   "mimetype": "text/x-python",
   "name": "python",
   "nbconvert_exporter": "python",
   "pygments_lexer": "ipython3",
   "version": "3.10.6"
  },
  "orig_nbformat": 4
 },
 "nbformat": 4,
 "nbformat_minor": 0
}
